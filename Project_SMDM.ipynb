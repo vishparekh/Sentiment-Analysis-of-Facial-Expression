{
 "cells": [
  {
   "cell_type": "code",
   "execution_count": 12,
   "metadata": {
    "collapsed": true
   },
   "outputs": [],
   "source": [
    "import requests\n",
    "from tkinter import *\n",
    "from PIL import Image\n",
    "from PIL import ImageTk\n",
    "from datetime import datetime\n",
    "from threading import Timer\n",
    "import time\n",
    "import getpass\n",
    "import os\n",
    "import cv2\n",
    "import webbrowser\n",
    "import os\n",
    "import urllib\n",
    "import pafy\n",
    "import youtube_dl\n",
    "import matplotlib.pyplot as plt; plt.rcdefaults()\n",
    "import numpy as np\n",
    "import matplotlib.pyplot as plt \n",
    "from tkinter import Tk, Message, Button, Menu\n",
    "from tkinter.messagebox import showinfo\n",
    "import tkinter as tk\n",
    "from IPython.display import YouTubeVideo"
   ]
  },
  {
   "cell_type": "code",
   "execution_count": 13,
   "metadata": {
    "collapsed": true
   },
   "outputs": [],
   "source": [
    "def getJSONbyFile(img_filename):\n",
    "    subscription_key = \"00ef32b871f54d30a3064d6782658152\"\n",
    "    face_api_url = 'https://westcentralus.api.cognitive.microsoft.com/face/v1.0/detect'\n",
    "    \n",
    "    headers = {\n",
    "    'Content-type': 'application/octet-stream',\n",
    "    'Ocp-Apim-Subscription-Key': subscription_key }\n",
    "\n",
    "    params = {\n",
    "        'returnFaceId': 'true',\n",
    "        'returnFaceLandmarks': 'false',\n",
    "        'returnFaceAttributes': 'emotion',\n",
    "    }\n",
    "    with open(img_filename, 'rb') as f:\n",
    "        img_data = f.read()\n",
    "\n",
    "    response = requests.post(face_api_url, params=params, headers=headers, data=img_data)\n",
    "    faces = response.json()\n",
    "    print(faces)\n",
    "    return faces\n",
    "    "
   ]
  },
  {
   "cell_type": "code",
   "execution_count": 14,
   "metadata": {
    "collapsed": true
   },
   "outputs": [],
   "source": [
    "def egtEmotionArrayByJson(faces):\n",
    "    emotions=[]\n",
    "    for face in faces:\n",
    "        emotions.append(face['faceAttributes']['emotion'])\n",
    "    return emotions"
   ]
  },
  {
   "cell_type": "code",
   "execution_count": 15,
   "metadata": {
    "collapsed": true
   },
   "outputs": [],
   "source": [
    "def detectExpression(fileName):\n",
    "    return egtEmotionArrayByJson(getJSONbyFile(fileName))"
   ]
  },
  {
   "cell_type": "code",
   "execution_count": 17,
   "metadata": {
    "collapsed": true
   },
   "outputs": [],
   "source": [
    "def getVideoByEmotions(emotions):\n",
    "    anger     = emotions[0]['anger']\n",
    "    contempt  = emotions[0]['contempt']\n",
    "    disgust    = emotions[0]['disgust']\n",
    "    fear      = emotions[0]['fear']\n",
    "    happiness = emotions[0]['happiness']\n",
    "    neutral   = emotions[0]['neutral']\n",
    "    sadness   = emotions[0]['sadness']\n",
    "    suprise   = emotions[0]['surprise']\n",
    "    \n",
    "    \n",
    "    objects = ('Anger', 'Disgust', 'Fear', 'Happy', 'Neutral', 'Sadness', 'Suprise')\n",
    "    y_pos = np.arange(len(objects))\n",
    "    performance = [anger,disgust,fear,happiness,neutral,sadness,suprise]\n",
    " \n",
    "    plt.bar(y_pos, performance, align='center', alpha=0.5)\n",
    "    plt.xticks(y_pos, objects)\n",
    "    plt.ylabel('Emotions')\n",
    "    plt.title('Sentiment Analysis of Facial Expression')\n",
    "    plt.figure(figsize=(25, 25))\n",
    "    plt.show()\n",
    "    \n",
    "    averageEmotions = (anger + contempt + disgust + fear + happiness + neutral + sadness + suprise) / 8\n",
    "    \n",
    "    if anger > averageEmotions:\n",
    "            return \"ZbZSe6N_BXs\"\n",
    "    \n",
    "    elif contempt > averageEmotions:\n",
    "            return \"OlcmlO9GguM\"\n",
    "                            \n",
    "    elif disgust > averageEmotions:\n",
    "            return \"OlcmlO9GguM\"\n",
    "                \n",
    "    elif fear > averageEmotions:\n",
    "            return \"HnrogLw6SOQ\"\n",
    "                            \n",
    "    elif happiness > averageEmotions:\n",
    "            return \"zcruIov45bI\"\n",
    "            \n",
    "    elif neutral > averageEmotions:\n",
    "            return \"CyTTIpidQ-k\"\n",
    "                            \n",
    "    elif sadness > averageEmotions:\n",
    "            return \"o_D11Kt8bo4\"\n",
    "                            \n",
    "    elif suprise > averageEmotions:\n",
    "            return \"CyTTIpidQ-k\"\n"
   ]
  },
  {
   "cell_type": "code",
   "execution_count": 19,
   "metadata": {
    "collapsed": true
   },
   "outputs": [],
   "source": [
    "def main():\n",
    "    path=\".\"\n",
    "    img_name=\"Image.jpg\"\n",
    "    root = Tk()\n",
    "    root.title(\"Sentimental Analysis\")\n",
    "    #logo pending\n",
    "    root.wm_state('zoomed')\n",
    "\n",
    "    msg = Message(root, text='Hello everyone, Welcome!')\n",
    "    msg.config(font=('calibri', 26, 'italic bold'))\n",
    "    msg.pack()\n",
    "\n",
    "    w0 = tk.Label(root,text=\" \")\n",
    "    w0.pack()\n",
    "    w = tk.Label(root, text=\"View the most recent image taken!\")\n",
    "    w.config(font=('calibri', 16, 'italic bold'))\n",
    "    w.pack()\n",
    "\n",
    "    def openimage():\n",
    "        recentimage = cv2.imread('./Image.jpg')\n",
    "        cv2.imshow('Recent Image',recentimage)\n",
    "        cv2.waitKey(0)\n",
    "        cv2.destroyAllWindows()\n",
    "\n",
    "\n",
    "    b=tk.Button(root,text=\"Click Here\",command = openimage)\n",
    "    b.pack()\n",
    "\n",
    "    def executeCameraScript():\n",
    "        #Code for the camera script to trigger\n",
    "        \n",
    "        \n",
    "        messagebox.showinfo(\"Information\",\"Press Space key to capture the image and Esc key to exit camera\")\n",
    "        cam = cv2.VideoCapture(0)\n",
    "        cv2.namedWindow(\"WebCam\")\n",
    "\n",
    "        while True:\n",
    "            ret, frame = cam.read()\n",
    "            cv2.imshow(\"WebCam\",frame)\n",
    "\n",
    "            if not ret:\n",
    "                break\n",
    "\n",
    "            k=cv2.waitKey(1)        \n",
    "\n",
    "            if k%256 == 27:\n",
    "            # ESC pressed\n",
    "                print(\"Escape hit, closing...\")\n",
    "                break\n",
    "            elif k%256 == 32:\n",
    "            # SPACE pressed               \n",
    "                cv2.imwrite(os.path.join(\".\",\"Image.jpg\"), frame)\n",
    "                print(\"New Image written!\")\n",
    "                cv2.waitKey(1000)\n",
    "                break\n",
    "\n",
    "\n",
    "        cam.release()\n",
    "        cv2.destroyAllWindows()\n",
    "        return;\n",
    "\n",
    "    menubar = Menu(root)\n",
    "    menubar.add_command(label=\"Open Camera\", command=executeCameraScript)\n",
    "    menubar.add_command(label=\"Close Main Window\", command=root.destroy)\n",
    "    root.config(menu=menubar)\n",
    "\n",
    "    root.mainloop()\n",
    "    \n",
    "    \n",
    "    emotions = detectExpression(path+\"\\\\\"+img_name)\n",
    "    video = getVideoByEmotions(emotions)\n",
    "    return video"
   ]
  },
  {
   "cell_type": "code",
   "execution_count": 21,
   "metadata": {},
   "outputs": [
    {
     "name": "stdout",
     "output_type": "stream",
     "text": [
      "New Image written!\n",
      "[{'faceId': '33a84c5a-1c26-42a7-a0ab-e34f9b2b7933', 'faceRectangle': {'top': 105, 'left': 254, 'width': 146, 'height': 146}, 'faceAttributes': {'emotion': {'anger': 0.0, 'contempt': 0.0, 'disgust': 0.0, 'fear': 0.0, 'happiness': 0.998, 'neutral': 0.002, 'sadness': 0.0, 'surprise': 0.0}}}]\n"
     ]
    },
    {
     "data": {
      "image/png": "[encoded data removed]",
      "text/plain": [
       "<matplotlib.figure.Figure at 0x26f93720e48>"
      ]
     },
     "metadata": {},
     "output_type": "display_data"
    },
    {
     "data": {
      "text/plain": [
       "<matplotlib.figure.Figure at 0x26f93a12c50>"
      ]
     },
     "metadata": {},
     "output_type": "display_data"
    },
    {
     "data": {
      "image/jpeg": "[encoded data removed]",
      "text/html": [
       "\n",
       "        <iframe\n",
       "            width=\"400\"\n",
       "            height=\"300\"\n",
       "            src=\"https://www.youtube.com/embed/zcruIov45bI\"\n",
       "            frameborder=\"0\"\n",
       "            allowfullscreen\n",
       "        ></iframe>\n",
       "        "
      ],
      "text/plain": [
       "<IPython.lib.display.YouTubeVideo at 0x26f90578d30>"
      ]
     },
     "execution_count": 21,
     "metadata": {},
     "output_type": "execute_result"
    }
   ],
   "source": [
    "YouTubeVideo(main())"
   ]
  },
  {
   "cell_type": "code",
   "execution_count": null,
   "metadata": {
    "collapsed": true
   },
   "outputs": [],
   "source": []
  }
 ],
 "metadata": {
  "kernelspec": {
   "display_name": "Python 3",
   "language": "python",
   "name": "python3"
  },
  "language_info": {
   "codemirror_mode": {
    "name": "ipython",
    "version": 3
   },
   "file_extension": ".py",
   "mimetype": "text/x-python",
   "name": "python",
   "nbconvert_exporter": "python",
   "pygments_lexer": "ipython3",
   "version": "3.6.3"
  }
 },
 "nbformat": 4,
 "nbformat_minor": 2
}
